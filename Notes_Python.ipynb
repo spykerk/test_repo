{
 "cells": [
  {
   "cell_type": "markdown",
   "metadata": {},
   "source": [
    "# My Notes in Python"
   ]
  },
  {
   "cell_type": "code",
   "execution_count": 2,
   "metadata": {},
   "outputs": [
    {
     "data": {
      "text/plain": [
       "['__doc__',\n",
       " '__loader__',\n",
       " '__name__',\n",
       " '__package__',\n",
       " '__spec__',\n",
       " 'acos',\n",
       " 'acosh',\n",
       " 'asin',\n",
       " 'asinh',\n",
       " 'atan',\n",
       " 'atanh',\n",
       " 'cos',\n",
       " 'cosh',\n",
       " 'e',\n",
       " 'exp',\n",
       " 'inf',\n",
       " 'infj',\n",
       " 'isclose',\n",
       " 'isfinite',\n",
       " 'isinf',\n",
       " 'isnan',\n",
       " 'log',\n",
       " 'log10',\n",
       " 'nan',\n",
       " 'nanj',\n",
       " 'phase',\n",
       " 'pi',\n",
       " 'polar',\n",
       " 'rect',\n",
       " 'sin',\n",
       " 'sinh',\n",
       " 'sqrt',\n",
       " 'tan',\n",
       " 'tanh',\n",
       " 'tau']"
      ]
     },
     "execution_count": 2,
     "metadata": {},
     "output_type": "execute_result"
    }
   ],
   "source": [
    "import cmath as cm # τρόπος κλήσης πακέτου (μαθηματικών εξισώσεων)\n",
    "dir(cm) # Εμφάνιση περιεχομάνων αντικειμένου"
   ]
  },
  {
   "cell_type": "markdown",
   "metadata": {},
   "source": [
    "### Τελεστές"
   ]
  },
  {
   "cell_type": "code",
   "execution_count": 16,
   "metadata": {},
   "outputs": [
    {
     "name": "stdout",
     "output_type": "stream",
     "text": [
      "5\n",
      "1\n",
      "6\n",
      "1.5\n",
      "2\n",
      "1\n",
      "8\n"
     ]
    },
    {
     "data": {
      "text/plain": [
       "True"
      ]
     },
     "execution_count": 16,
     "metadata": {},
     "output_type": "execute_result"
    }
   ],
   "source": [
    "print(2+3) # Addition '+'\n",
    "print(3-2) # Subtraction '-'\n",
    "print(2*3) # Multiplication '*'\n",
    "print(3/2) # Division '/'\n",
    "print(7//3) # Integer (floor) division '//'\n",
    "print(7%3) # Modulus (remainder division) '%'\n",
    "print(2**3) # Exponent '**'\n",
    "1==2 or 3<5 and 1!=7 or 8>=4 # Comparison operators: ==, <, >, >=, <=, != (not equal), <> (not equal)"
   ]
  },
  {
   "cell_type": "markdown",
   "metadata": {},
   "source": [
    "### Τύποι μεταβλητών"
   ]
  },
  {
   "cell_type": "code",
   "execution_count": 10,
   "metadata": {},
   "outputs": [
    {
     "data": {
      "text/plain": [
       "str"
      ]
     },
     "execution_count": 10,
     "metadata": {},
     "output_type": "execute_result"
    }
   ],
   "source": [
    "a1 = 'name'\n",
    "type(a1) # Επιστρέφει τον τύπο της μεταβλητής"
   ]
  },
  {
   "cell_type": "code",
   "execution_count": 11,
   "metadata": {},
   "outputs": [
    {
     "data": {
      "text/plain": [
       "int"
      ]
     },
     "execution_count": 11,
     "metadata": {},
     "output_type": "execute_result"
    }
   ],
   "source": [
    "a2 = 8\n",
    "type(a2)"
   ]
  },
  {
   "cell_type": "code",
   "execution_count": 12,
   "metadata": {},
   "outputs": [
    {
     "data": {
      "text/plain": [
       "float"
      ]
     },
     "execution_count": 12,
     "metadata": {},
     "output_type": "execute_result"
    }
   ],
   "source": [
    "a3 = 8.2\n",
    "type(a3) # μπορεί ο τύπος να είναι και συνάρτηση - function"
   ]
  },
  {
   "cell_type": "markdown",
   "metadata": {},
   "source": [
    "### Μεταβλητές Tuple"
   ]
  },
  {
   "cell_type": "code",
   "execution_count": 13,
   "metadata": {},
   "outputs": [
    {
     "data": {
      "text/plain": [
       "tuple"
      ]
     },
     "execution_count": 13,
     "metadata": {},
     "output_type": "execute_result"
    }
   ],
   "source": [
    "# tuple - δεν μπορεί να αλλάξει τα στοιχεία του από την στιγμή που θα δημιουργηθεί\n",
    "x = (1,2,'c',4.1)\n",
    "type(x)"
   ]
  },
  {
   "cell_type": "markdown",
   "metadata": {},
   "source": [
    "### Μεταβλητές List"
   ]
  },
  {
   "cell_type": "code",
   "execution_count": 19,
   "metadata": {},
   "outputs": [
    {
     "data": {
      "text/plain": [
       "list"
      ]
     },
     "execution_count": 19,
     "metadata": {},
     "output_type": "execute_result"
    }
   ],
   "source": [
    "# list - μπορεί να αλλάξει το μήκος, το πλήθος και οι τιμές των στοιχείων \n",
    "x = [1,2,'c',4.1]\n",
    "type(x)"
   ]
  },
  {
   "cell_type": "code",
   "execution_count": 20,
   "metadata": {},
   "outputs": [
    {
     "name": "stdout",
     "output_type": "stream",
     "text": [
      "[1, 2, 'c', 4.1, 'e']\n"
     ]
    }
   ],
   "source": [
    "x.append('e')\n",
    "print(x)"
   ]
  },
  {
   "cell_type": "markdown",
   "metadata": {},
   "source": [
    "### Loops For, while"
   ]
  },
  {
   "cell_type": "raw",
   "metadata": {},
   "source": [
    "και για τους δύο τύπους μεταβλητών (tuple & list) μπορούμε να εκτελέσουμε loops"
   ]
  },
  {
   "cell_type": "code",
   "execution_count": 4,
   "metadata": {},
   "outputs": [
    {
     "name": "stdout",
     "output_type": "stream",
     "text": [
      "1\n",
      "2\n",
      "c\n",
      "4.1\n",
      "e\n"
     ]
    }
   ],
   "source": [
    "for item in x:\n",
    "    print(item)"
   ]
  },
  {
   "cell_type": "code",
   "execution_count": 5,
   "metadata": {},
   "outputs": [
    {
     "name": "stdout",
     "output_type": "stream",
     "text": [
      "1\n",
      "2\n",
      "c\n",
      "4.1\n",
      "e\n"
     ]
    }
   ],
   "source": [
    "i=0\n",
    "while (i!=len(x)):\n",
    "    print(x[i])\n",
    "    i=i+1"
   ]
  },
  {
   "cell_type": "markdown",
   "metadata": {},
   "source": [
    "### Παράδειγμα if then else"
   ]
  },
  {
   "cell_type": "code",
   "execution_count": 34,
   "metadata": {},
   "outputs": [
    {
     "name": "stdout",
     "output_type": "stream",
     "text": [
      "3 - Got a true expression value\n",
      "100\n"
     ]
    }
   ],
   "source": [
    "var = 100\n",
    "if var == 200:\n",
    "   print(\"1 - Got a true expression value\")\n",
    "   print(var)\n",
    "elif var == 150:\n",
    "   print(\"2 - Got a true expression value\")\n",
    "   print(var)\n",
    "elif var == 100:\n",
    "   print(\"3 - Got a true expression value\")\n",
    "   print(var)\n",
    "else:\n",
    "   print(\"4 - Got a false expression value\")\n",
    "   print(var)"
   ]
  },
  {
   "cell_type": "markdown",
   "metadata": {},
   "source": [
    "### Πράξεις με λίστες και δυανίσματα "
   ]
  },
  {
   "cell_type": "code",
   "execution_count": 7,
   "metadata": {},
   "outputs": [
    {
     "name": "stdout",
     "output_type": "stream",
     "text": [
      "(1, 2, 3, 4, 5)\n",
      "(1, 2, 3, 1, 2, 3)\n",
      "True\n"
     ]
    }
   ],
   "source": [
    "print((1,2,3)+(4,5))\n",
    "print((1,2,3)*2)\n",
    "print(2 in (1,2,3))"
   ]
  },
  {
   "cell_type": "code",
   "execution_count": 21,
   "metadata": {
    "collapsed": true
   },
   "outputs": [
    {
     "name": "stdout",
     "output_type": "stream",
     "text": [
      "4.1\n",
      "c\n",
      "[2, 'c']\n",
      "am\n",
      "nam\n",
      "ame\n"
     ]
    }
   ],
   "source": [
    "print(x[3]) # Επιστρέφει την τιμή του στοιχείου στη θέση 3. Η αρίθμηση ξεκινά από το 0\n",
    "print(x[-3]) # Επιστρέφει την τιμή του στοιχείου στη θέση 3 από το τέλος.\n",
    "print(x[1:3]) # Επιστρέφει τα στοιχεία από την θέση 1 έως την θέση 3 (όχι την 3)"
   ]
  },
  {
   "cell_type": "code",
   "execution_count": null,
   "metadata": {
    "collapsed": true
   },
   "outputs": [],
   "source": [
    "x='name'\n",
    "print(x[1:3]) # ισχύει και σε string\n",
    "print(x[:3])\n",
    "print(x[1:])"
   ]
  },
  {
   "cell_type": "markdown",
   "metadata": {},
   "source": [
    "### Πράξεις με String"
   ]
  },
  {
   "cell_type": "code",
   "execution_count": 23,
   "metadata": {
    "collapsed": true
   },
   "outputs": [
    {
     "name": "stdout",
     "output_type": "stream",
     "text": [
      "Surname Firstname\n",
      "FirstnameFirstnameFirstname\n",
      "True\n",
      "False\n",
      "My\n"
     ]
    }
   ],
   "source": [
    "Sn = 'Surname'\n",
    "Fn = 'Firstname'\n",
    "print(Sn + ' ' + Fn)\n",
    "print(Fn * 3)\n",
    "print('name' in Sn)\n",
    "print('Name' in Sn)"
   ]
  },
  {
   "cell_type": "code",
   "execution_count": null,
   "metadata": {
    "collapsed": true
   },
   "outputs": [],
   "source": [
    "t = 'My name is Fisrt Name Last Name'\n",
    "print(t.split(' ')[0]) # διαχωρίζει ένα string με τον διαχωριστή που δηλώσαμε και το κάνει list"
   ]
  },
  {
   "cell_type": "code",
   "execution_count": null,
   "metadata": {
    "collapsed": true
   },
   "outputs": [],
   "source": [
    "'name' + str(100)"
   ]
  },
  {
   "cell_type": "code",
   "execution_count": 28,
   "metadata": {
    "collapsed": true
   },
   "outputs": [
    {
     "name": "stdout",
     "output_type": "stream",
     "text": [
      "1\n",
      "2\n",
      "3\n"
     ]
    }
   ],
   "source": [
    "x = (1,2,3)\n",
    "a,b,c = x # πρέπει όσα είναι τα στοιχεία του διανύσματος να είναι και οι μεταβλητές\n",
    "print(a)\n",
    "print(b)\n",
    "print(c)"
   ]
  },
  {
   "cell_type": "markdown",
   "metadata": {},
   "source": [
    "### Μεταβλητές Dictionary (dict) "
   ]
  },
  {
   "cell_type": "code",
   "execution_count": 24,
   "metadata": {
    "collapsed": true
   },
   "outputs": [
    {
     "data": {
      "text/plain": [
       "'Prius'"
      ]
     },
     "execution_count": 24,
     "metadata": {},
     "output_type": "execute_result"
    }
   ],
   "source": [
    "# Dictionary (dict) μπορούμε να έχουμε labels \n",
    "x = {'BMW' : 'M3', 'Toyota':'Prius', 'Honda': 'Civic'}\n",
    "x['Toyota']"
   ]
  },
  {
   "cell_type": "code",
   "execution_count": 26,
   "metadata": {},
   "outputs": [
    {
     "name": "stdout",
     "output_type": "stream",
     "text": [
      "M3\n",
      "Prius\n",
      "Civic\n",
      " \n",
      "M3\n",
      "Prius\n",
      "Civic\n",
      " \n",
      "BMW - M3\n",
      "Toyota - Prius\n",
      "Honda - Civic\n"
     ]
    }
   ],
   "source": [
    "for car in x:\n",
    "    print(x[car])\n",
    "    \n",
    "print(' ')\n",
    "\n",
    "for model in x.values():\n",
    "    print(model)\n",
    "    \n",
    "print(' ')\n",
    "\n",
    "for car, model in x.items():\n",
    "    print(car + ' - ' + model)"
   ]
  },
  {
   "cell_type": "code",
   "execution_count": 29,
   "metadata": {
    "collapsed": true
   },
   "outputs": [
    {
     "name": "stdout",
     "output_type": "stream",
     "text": [
      "Mitsos bought 4 item(s) at a price of 2.6 each for a total of 10.4\n"
     ]
    }
   ],
   "source": [
    "# Food for thought\n",
    "sales_record = {'price':2.6, 'num_items':4,'person':'Mitsos'}\n",
    "sales_statement = '{} bought {} item(s) at a price of {} each for a total of {}'\n",
    "print(sales_statement.format(sales_record['person'],\n",
    "                             sales_record['num_items'],\n",
    "                             sales_record['price'],\n",
    "                             sales_record['num_items']*sales_record['price']))"
   ]
  },
  {
   "cell_type": "markdown",
   "metadata": {},
   "source": [
    "### Δημιουργία (declare) functions"
   ]
  },
  {
   "cell_type": "code",
   "execution_count": 35,
   "metadata": {},
   "outputs": [
    {
     "data": {
      "text/plain": [
       "6"
      ]
     },
     "execution_count": 35,
     "metadata": {},
     "output_type": "execute_result"
    }
   ],
   "source": [
    "def addnums(x,y):\n",
    "    return x+y\n",
    "# Call functions\n",
    "addnums(1,2)\n",
    "\n",
    "def addnums2(x,y, z=None):\n",
    "    if (z==None):\n",
    "        return x+y\n",
    "    else :\n",
    "        return x+y+z\n",
    "# Call functions\n",
    "addnums2(1,2)\n",
    "addnums2(1,2,3)"
   ]
  },
  {
   "cell_type": "code",
   "execution_count": 31,
   "metadata": {},
   "outputs": [
    {
     "data": {
      "text/plain": [
       "[OrderedDict([('mpg', '18'),\n",
       "              ('cylinders', '8'),\n",
       "              ('displacement', '307'),\n",
       "              ('horsepower', '130'),\n",
       "              ('weight', '3504'),\n",
       "              ('acceleration', '12'),\n",
       "              ('model_year', '70'),\n",
       "              ('origin', '1'),\n",
       "              ('name', 'chevrolet chevelle malibu')]),\n",
       " OrderedDict([('mpg', '15'),\n",
       "              ('cylinders', '8'),\n",
       "              ('displacement', '350'),\n",
       "              ('horsepower', '165'),\n",
       "              ('weight', '3693'),\n",
       "              ('acceleration', '11.5'),\n",
       "              ('model_year', '70'),\n",
       "              ('origin', '1'),\n",
       "              ('name', 'buick skylark 320')]),\n",
       " OrderedDict([('mpg', '18'),\n",
       "              ('cylinders', '8'),\n",
       "              ('displacement', '318'),\n",
       "              ('horsepower', '150'),\n",
       "              ('weight', '3436'),\n",
       "              ('acceleration', '11'),\n",
       "              ('model_year', '70'),\n",
       "              ('origin', '1'),\n",
       "              ('name', 'plymouth satellite')])]"
      ]
     },
     "execution_count": 31,
     "metadata": {},
     "output_type": "execute_result"
    }
   ],
   "source": [
    "import csv\n",
    "\n",
    "%precision 2  # Ορίζονται δύο δεκαδικά ψηφία για τα float\n",
    "\n",
    "with open('mpg.csv') as csvfile:\n",
    "    mpg = list(csv.DictReader(csvfile))\n",
    "\n",
    "mpg[:3]"
   ]
  },
  {
   "cell_type": "code",
   "execution_count": 33,
   "metadata": {
    "collapsed": true
   },
   "outputs": [
    {
     "data": {
      "text/plain": [
       "398"
      ]
     },
     "execution_count": 33,
     "metadata": {},
     "output_type": "execute_result"
    }
   ],
   "source": [
    "len(mpg)"
   ]
  },
  {
   "cell_type": "code",
   "execution_count": 34,
   "metadata": {
    "collapsed": true
   },
   "outputs": [
    {
     "data": {
      "text/plain": [
       "odict_keys(['mpg', 'cylinders', 'displacement', 'horsepower', 'weight', 'acceleration', 'model_year', 'origin', 'name'])"
      ]
     },
     "execution_count": 34,
     "metadata": {},
     "output_type": "execute_result"
    }
   ],
   "source": [
    "mpg[0].keys()"
   ]
  },
  {
   "cell_type": "code",
   "execution_count": 38,
   "metadata": {
    "collapsed": true
   },
   "outputs": [
    {
     "data": {
      "text/plain": [
       "2970.42"
      ]
     },
     "execution_count": 38,
     "metadata": {},
     "output_type": "execute_result"
    }
   ],
   "source": [
    "sum(float(d['weight']) for d in mpg)/len(mpg)"
   ]
  },
  {
   "cell_type": "code",
   "execution_count": 39,
   "metadata": {
    "collapsed": true
   },
   "outputs": [
    {
     "data": {
      "text/plain": [
       "{'3', '4', '5', '6', '8'}"
      ]
     },
     "execution_count": 39,
     "metadata": {},
     "output_type": "execute_result"
    }
   ],
   "source": [
    "# Κατηγοριοποίηση ανά Κυλίνδρους\n",
    "cyl = set(d['cylinders'] for d in mpg)\n",
    "cyl"
   ]
  },
  {
   "cell_type": "code",
   "execution_count": 40,
   "metadata": {
    "collapsed": true
   },
   "outputs": [
    {
     "data": {
      "text/plain": [
       "[('3', 2398.50),\n",
       " ('4', 2308.13),\n",
       " ('5', 3103.33),\n",
       " ('6', 3198.23),\n",
       " ('8', 4114.72)]"
      ]
     },
     "execution_count": 40,
     "metadata": {},
     "output_type": "execute_result"
    }
   ],
   "source": [
    "wgtMpgbyCyl = []  # Δημιουργία κενής λίστας\n",
    "\n",
    "for c in cyl:\n",
    "    summpg = 0\n",
    "    cyltypecount = 0\n",
    "    for d in mpg:\n",
    "        if d['cylinders'] == c:\n",
    "            summpg += float(d['weight'])\n",
    "            cyltypecount += 1\n",
    "    wgtMpgbyCyl.append((c,summpg/cyltypecount))    \n",
    "\n",
    "wgtMpgbyCyl.sort(key=lambda x: x[0])  # lambda is covered in advance python lambda and list comperhension\n",
    "wgtMpgbyCyl"
   ]
  },
  {
   "cell_type": "markdown",
   "metadata": {
    "collapsed": true
   },
   "source": [
    "## Διαχείρσηση ημερομηνιών"
   ]
  },
  {
   "cell_type": "code",
   "execution_count": 38,
   "metadata": {
    "collapsed": true
   },
   "outputs": [],
   "source": [
    "import datetime as dt # πακέτο ημερομηνιών\n",
    "import time as tm # πακέτο ώρας"
   ]
  },
  {
   "cell_type": "code",
   "execution_count": 39,
   "metadata": {
    "collapsed": true
   },
   "outputs": [],
   "source": [
    "myDate = dt.datetime.now() # Ημερομηνία και ώρα την στιγμή που τρέχει η εντολή"
   ]
  },
  {
   "cell_type": "code",
   "execution_count": 40,
   "metadata": {},
   "outputs": [
    {
     "name": "stdout",
     "output_type": "stream",
     "text": [
      "2017-08-20 17:52:31.146864\n",
      "2017\n",
      "Current date and time using instance attributes:\n",
      "Current year: 2017\n",
      "Current month: 8\n",
      "Current day: 20\n",
      "Current hour: 17\n",
      "Current minute: 52\n",
      "Current second: 31\n",
      "Current microsecond: 146864\n"
     ]
    }
   ],
   "source": [
    "print(myDate)\n",
    "print(myDate.year)\n",
    "print (\"Current date and time using instance attributes:\")\n",
    "print (\"Current year: %d\" % myDate.year)\n",
    "print (\"Current month: %d\" % myDate.month)\n",
    "print (\"Current day: %d\" % myDate.day)\n",
    "print (\"Current hour: %d\" % myDate.hour)\n",
    "print (\"Current minute: %d\" % myDate.minute)\n",
    "print (\"Current second: %d\" % myDate.second)\n",
    "print (\"Current microsecond: %d\" % myDate.microsecond)"
   ]
  },
  {
   "cell_type": "code",
   "execution_count": 11,
   "metadata": {
    "collapsed": true
   },
   "outputs": [
    {
     "name": "stdout",
     "output_type": "stream",
     "text": [
      "2017-08-19 17:21:40.661582\n",
      "2008-01-20\n",
      "2017-08-19\n"
     ]
    }
   ],
   "source": [
    "myDate = dt.datetime.fromtimestamp(tm.time())  # Ημερομηνία και ώρα την στιγμή που τρέχει η εντολή\n",
    "print(myDate)\n",
    "myDate = dt.date(2008, 1, 20) # Ανάθεση τιμής ημερομηνίας σε μεταβλητή\n",
    "print(myDate)\n",
    "myDate = dt.date.today() # Ανάθεση τιμής σημερινής ημερομηνίας σε μεταβλητή\n",
    "print(myDate)"
   ]
  },
  {
   "cell_type": "markdown",
   "metadata": {},
   "source": [
    "### Πράξεις με ημερομηνίες"
   ]
  },
  {
   "cell_type": "code",
   "execution_count": 20,
   "metadata": {
    "collapsed": true
   },
   "outputs": [
    {
     "name": "stdout",
     "output_type": "stream",
     "text": [
      "2017-08-09\n",
      "2017-08-29\n",
      "2017-08-12\n",
      "3159 days, 0:00:00\n",
      "3159\n"
     ]
    }
   ],
   "source": [
    "DeltaDays = dt.timedelta(days=10) # Διάστημα ημερών\n",
    "print(myDate - DeltaDays) # Πίσω κατά DeltaDays μέρες\n",
    "print(myDate + DeltaDays) # Μπροστά κατά DeltaDays μέρες\n",
    "\n",
    "DeltaWeeks = dt.timedelta(weeks=1)\n",
    "print(myDate - DeltaWeeks) # Πίσω κατά DeltaDays εβδομάδες πίσω, από Δευτέρα σε Δευτέρα\n",
    "\n",
    "# Επίσης έχουμε\n",
    "today = dt.date.today()\n",
    "someday = dt.date(2008, 12, 25)\n",
    "diff = today - someday\n",
    "print(diff) # Ακριβείς μεταβολή σε ώρες λεπτά κλπ\n",
    "print(diff.days) # Μεταβολή σε μέρες"
   ]
  },
  {
   "cell_type": "code",
   "execution_count": 24,
   "metadata": {
    "collapsed": true
   },
   "outputs": [
    {
     "name": "stdout",
     "output_type": "stream",
     "text": [
      "2017-06-19\n"
     ]
    },
    {
     "data": {
      "text/plain": [
       "datetime.date(2008, 5, 20)"
      ]
     },
     "execution_count": 24,
     "metadata": {},
     "output_type": "execute_result"
    }
   ],
   "source": [
    "# Παραδείγματα Κώδικα με πράξεις σε ημερονημίες\n",
    "\n",
    "D1 = dt.date.today()\n",
    "\n",
    "D2 = D1 + dt.timedelta(days=1) # Next Day\n",
    "D2 = D1 + dt.timedelta(days=-1) # Previous Day\n",
    "\n",
    "D2 = dt.date(D1.year, D1.month, 1)\t# Πρώτη μέρα του μήνα\n",
    "D2 = dt.date(D1.year, D1.month+1, 1) + dt.timedelta(days=-1) # Τελευταία μέρα του μήνα\n",
    "\n",
    "# x Μήνες πίσω\n",
    "xMonths = 2\n",
    "difM = D1.month - xMonths\n",
    "\n",
    "if D1.month == 2 and D1.day == 29 :\n",
    "   D1 = D1 + dt.timedelta(days=-1)\n",
    "else:\n",
    "   D1 = D1\n",
    " \n",
    "if difM > 0:\n",
    "   D2 = dt.date(D1.year, D1.month-xMonths, D1.day)\n",
    "else:\n",
    "   D2 = dt.date(D1.year-1, 12 - difM*(-1), D1.day)\n",
    "print(D2)\n",
    "\n",
    "# x Μήνες μπροστά\n",
    "xMonths = 2\n",
    "D1 = dt.date(2008, 3, 20)\n",
    "#D1 = datetime.date.today()\n",
    "difM = D1.month + xMonths\n",
    "dt.date(D1.year, D1.month + xMonths, D1.day)"
   ]
  },
  {
   "cell_type": "markdown",
   "metadata": {},
   "source": [
    "## Objects"
   ]
  },
  {
   "cell_type": "code",
   "execution_count": 25,
   "metadata": {
    "collapsed": true
   },
   "outputs": [],
   "source": [
    "class Person:\n",
    "    department = 'School of Information'\n",
    "    \n",
    "    def set_name(self, new_name):\n",
    "        self.name = new_name\n",
    "    def set_location(self, new_location):\n",
    "        self.location = new_location"
   ]
  },
  {
   "cell_type": "code",
   "execution_count": 26,
   "metadata": {
    "collapsed": true
   },
   "outputs": [
    {
     "name": "stdout",
     "output_type": "stream",
     "text": [
      "Firstname Lastname live in City, MI, USA and works in the department School of Information\n"
     ]
    }
   ],
   "source": [
    "person = Person()\n",
    "person.set_name('Firstname Lastname')\n",
    "person.set_location('City, MI, USA')\n",
    "print('{} live in {} and works in the department {}'.format(person.name,person.location,person.department))    "
   ]
  },
  {
   "cell_type": "markdown",
   "metadata": {},
   "source": [
    "## Map() function"
   ]
  },
  {
   "cell_type": "code",
   "execution_count": 10,
   "metadata": {
    "collapsed": true
   },
   "outputs": [
    {
     "name": "stdout",
     "output_type": "stream",
     "text": [
      "<map object at 0x0000018EA76EF7F0>\n",
      "9.0\n",
      "11.0\n",
      "12.34\n",
      "2.01\n"
     ]
    }
   ],
   "source": [
    "store1 = [10.00,11.00,12.34,2.34]\n",
    "store2 = [9.00,11.10,12.34,2.01]\n",
    "cheapest = map(min,store1,store2)\n",
    "print(cheapest)\n",
    "\n",
    "for item in cheapest:\n",
    "    print(item)"
   ]
  },
  {
   "cell_type": "markdown",
   "metadata": {},
   "source": [
    "## Lambda Syntax"
   ]
  },
  {
   "cell_type": "code",
   "execution_count": 11,
   "metadata": {
    "collapsed": true
   },
   "outputs": [
    {
     "data": {
      "text/plain": [
       "3"
      ]
     },
     "execution_count": 11,
     "metadata": {},
     "output_type": "execute_result"
    }
   ],
   "source": [
    "my_function = lambda a, b, c : a + b\n",
    "my_function(1,2,3)"
   ]
  },
  {
   "cell_type": "code",
   "execution_count": 12,
   "metadata": {
    "collapsed": true
   },
   "outputs": [
    {
     "name": "stdout",
     "output_type": "stream",
     "text": [
      "True\n",
      "True\n",
      "True\n",
      "True\n"
     ]
    },
    {
     "data": {
      "text/plain": [
       "True"
      ]
     },
     "execution_count": 12,
     "metadata": {},
     "output_type": "execute_result"
    }
   ],
   "source": [
    "# example\n",
    "people = ['Dr. Christopher Brooks', 'Dr. Kevyn Collins-Thompson', 'Dr. VG Vinod Vydiswaran', 'Dr. Daniel Romero']\n",
    "\n",
    "def split_title_and_name(person):\n",
    "    return person.split()[0] + ' ' + person.split()[-1]\n",
    "\n",
    "#option 1\n",
    "for person in people:\n",
    "    print(split_title_and_name(person) == (lambda x: x.split()[0] + ' ' + x.split()[-1])(person))\n",
    "#option 2\n",
    "list(map(split_title_and_name, people)) == list(map(lambda person: person.split()[0] + ' ' + person.split()[-1], people))"
   ]
  },
  {
   "cell_type": "code",
   "execution_count": 13,
   "metadata": {
    "collapsed": true
   },
   "outputs": [
    {
     "name": "stdout",
     "output_type": "stream",
     "text": [
      "[0, 2, 4, 6, 8, 10, 12, 14, 16, 18, 20, 22, 24, 26, 28, 30, 32, 34, 36, 38, 40, 42, 44, 46, 48, 50, 52, 54, 56, 58, 60, 62, 64, 66, 68, 70, 72, 74, 76, 78, 80, 82, 84, 86, 88, 90, 92, 94, 96, 98, 100, 102, 104, 106, 108, 110, 112, 114, 116, 118, 120, 122, 124, 126, 128, 130, 132, 134, 136, 138, 140, 142, 144, 146, 148, 150, 152, 154, 156, 158, 160, 162, 164, 166, 168, 170, 172, 174, 176, 178, 180, 182, 184, 186, 188, 190, 192, 194, 196, 198, 200, 202, 204, 206, 208, 210, 212, 214, 216, 218, 220, 222, 224, 226, 228, 230, 232, 234, 236, 238, 240, 242, 244, 246, 248, 250, 252, 254, 256, 258, 260, 262, 264, 266, 268, 270, 272, 274, 276, 278, 280, 282, 284, 286, 288, 290, 292, 294, 296, 298, 300, 302, 304, 306, 308, 310, 312, 314, 316, 318, 320, 322, 324, 326, 328, 330, 332, 334, 336, 338, 340, 342, 344, 346, 348, 350, 352, 354, 356, 358, 360, 362, 364, 366, 368, 370, 372, 374, 376, 378, 380, 382, 384, 386, 388, 390, 392, 394, 396, 398, 400, 402, 404, 406, 408, 410, 412, 414, 416, 418, 420, 422, 424, 426, 428, 430, 432, 434, 436, 438, 440, 442, 444, 446, 448, 450, 452, 454, 456, 458, 460, 462, 464, 466, 468, 470, 472, 474, 476, 478, 480, 482, 484, 486, 488, 490, 492, 494, 496, 498, 500, 502, 504, 506, 508, 510, 512, 514, 516, 518, 520, 522, 524, 526, 528, 530, 532, 534, 536, 538, 540, 542, 544, 546, 548, 550, 552, 554, 556, 558, 560, 562, 564, 566, 568, 570, 572, 574, 576, 578, 580, 582, 584, 586, 588, 590, 592, 594, 596, 598, 600, 602, 604, 606, 608, 610, 612, 614, 616, 618, 620, 622, 624, 626, 628, 630, 632, 634, 636, 638, 640, 642, 644, 646, 648, 650, 652, 654, 656, 658, 660, 662, 664, 666, 668, 670, 672, 674, 676, 678, 680, 682, 684, 686, 688, 690, 692, 694, 696, 698, 700, 702, 704, 706, 708, 710, 712, 714, 716, 718, 720, 722, 724, 726, 728, 730, 732, 734, 736, 738, 740, 742, 744, 746, 748, 750, 752, 754, 756, 758, 760, 762, 764, 766, 768, 770, 772, 774, 776, 778, 780, 782, 784, 786, 788, 790, 792, 794, 796, 798, 800, 802, 804, 806, 808, 810, 812, 814, 816, 818, 820, 822, 824, 826, 828, 830, 832, 834, 836, 838, 840, 842, 844, 846, 848, 850, 852, 854, 856, 858, 860, 862, 864, 866, 868, 870, 872, 874, 876, 878, 880, 882, 884, 886, 888, 890, 892, 894, 896, 898, 900, 902, 904, 906, 908, 910, 912, 914, 916, 918, 920, 922, 924, 926, 928, 930, 932, 934, 936, 938, 940, 942, 944, 946, 948, 950, 952, 954, 956, 958, 960, 962, 964, 966, 968, 970, 972, 974, 976, 978, 980, 982, 984, 986, 988, 990, 992, 994, 996, 998]\n",
      "[0, 2, 4, 6, 8, 10, 12, 14, 16, 18, 20, 22, 24, 26, 28, 30, 32, 34, 36, 38, 40, 42, 44, 46, 48, 50, 52, 54, 56, 58, 60, 62, 64, 66, 68, 70, 72, 74, 76, 78, 80, 82, 84, 86, 88, 90, 92, 94, 96, 98, 100, 102, 104, 106, 108, 110, 112, 114, 116, 118, 120, 122, 124, 126, 128, 130, 132, 134, 136, 138, 140, 142, 144, 146, 148, 150, 152, 154, 156, 158, 160, 162, 164, 166, 168, 170, 172, 174, 176, 178, 180, 182, 184, 186, 188, 190, 192, 194, 196, 198, 200, 202, 204, 206, 208, 210, 212, 214, 216, 218, 220, 222, 224, 226, 228, 230, 232, 234, 236, 238, 240, 242, 244, 246, 248, 250, 252, 254, 256, 258, 260, 262, 264, 266, 268, 270, 272, 274, 276, 278, 280, 282, 284, 286, 288, 290, 292, 294, 296, 298, 300, 302, 304, 306, 308, 310, 312, 314, 316, 318, 320, 322, 324, 326, 328, 330, 332, 334, 336, 338, 340, 342, 344, 346, 348, 350, 352, 354, 356, 358, 360, 362, 364, 366, 368, 370, 372, 374, 376, 378, 380, 382, 384, 386, 388, 390, 392, 394, 396, 398, 400, 402, 404, 406, 408, 410, 412, 414, 416, 418, 420, 422, 424, 426, 428, 430, 432, 434, 436, 438, 440, 442, 444, 446, 448, 450, 452, 454, 456, 458, 460, 462, 464, 466, 468, 470, 472, 474, 476, 478, 480, 482, 484, 486, 488, 490, 492, 494, 496, 498, 500, 502, 504, 506, 508, 510, 512, 514, 516, 518, 520, 522, 524, 526, 528, 530, 532, 534, 536, 538, 540, 542, 544, 546, 548, 550, 552, 554, 556, 558, 560, 562, 564, 566, 568, 570, 572, 574, 576, 578, 580, 582, 584, 586, 588, 590, 592, 594, 596, 598, 600, 602, 604, 606, 608, 610, 612, 614, 616, 618, 620, 622, 624, 626, 628, 630, 632, 634, 636, 638, 640, 642, 644, 646, 648, 650, 652, 654, 656, 658, 660, 662, 664, 666, 668, 670, 672, 674, 676, 678, 680, 682, 684, 686, 688, 690, 692, 694, 696, 698, 700, 702, 704, 706, 708, 710, 712, 714, 716, 718, 720, 722, 724, 726, 728, 730, 732, 734, 736, 738, 740, 742, 744, 746, 748, 750, 752, 754, 756, 758, 760, 762, 764, 766, 768, 770, 772, 774, 776, 778, 780, 782, 784, 786, 788, 790, 792, 794, 796, 798, 800, 802, 804, 806, 808, 810, 812, 814, 816, 818, 820, 822, 824, 826, 828, 830, 832, 834, 836, 838, 840, 842, 844, 846, 848, 850, 852, 854, 856, 858, 860, 862, 864, 866, 868, 870, 872, 874, 876, 878, 880, 882, 884, 886, 888, 890, 892, 894, 896, 898, 900, 902, 904, 906, 908, 910, 912, 914, 916, 918, 920, 922, 924, 926, 928, 930, 932, 934, 936, 938, 940, 942, 944, 946, 948, 950, 952, 954, 956, 958, 960, 962, 964, 966, 968, 970, 972, 974, 976, 978, 980, 982, 984, 986, 988, 990, 992, 994, 996, 998]\n"
     ]
    }
   ],
   "source": [
    "# Lists με lambdas\n",
    "myList = []\n",
    "for number in range(0,1000):\n",
    "    if number % 2 == 0:\n",
    "        myList.append(number)\n",
    "print(myList)\n",
    "# είναι το ίδιο με το επόμενο\n",
    "myList = [number for number in range(0,1000) if number % 2 == 0]\n",
    "print(myList)"
   ]
  },
  {
   "cell_type": "code",
   "execution_count": 15,
   "metadata": {
    "collapsed": true
   },
   "outputs": [
    {
     "data": {
      "text/plain": [
       "True"
      ]
     },
     "execution_count": 15,
     "metadata": {},
     "output_type": "execute_result"
    }
   ],
   "source": [
    "# Παράδειγμα 1o\n",
    "def times_tables():\n",
    "    lst = []\n",
    "    for i in range(10):\n",
    "        for j in range (10):\n",
    "            lst.append(i*j)\n",
    "    return lst\n",
    "\n",
    "times_tables() == [j*i for i in range(10) for j in range(10)]"
   ]
  },
  {
   "cell_type": "code",
   "execution_count": 16,
   "metadata": {},
   "outputs": [
    {
     "data": {
      "text/plain": [
       "['aa00',\n",
       " 'aa01',\n",
       " 'aa02',\n",
       " 'aa03',\n",
       " 'aa04',\n",
       " 'aa05',\n",
       " 'aa06',\n",
       " 'aa07',\n",
       " 'aa08',\n",
       " 'aa09',\n",
       " 'aa10',\n",
       " 'aa11',\n",
       " 'aa12',\n",
       " 'aa13',\n",
       " 'aa14',\n",
       " 'aa15',\n",
       " 'aa16',\n",
       " 'aa17',\n",
       " 'aa18',\n",
       " 'aa19',\n",
       " 'aa20',\n",
       " 'aa21',\n",
       " 'aa22',\n",
       " 'aa23',\n",
       " 'aa24',\n",
       " 'aa25',\n",
       " 'aa26',\n",
       " 'aa27',\n",
       " 'aa28',\n",
       " 'aa29',\n",
       " 'aa30',\n",
       " 'aa31',\n",
       " 'aa32',\n",
       " 'aa33',\n",
       " 'aa34',\n",
       " 'aa35',\n",
       " 'aa36',\n",
       " 'aa37',\n",
       " 'aa38',\n",
       " 'aa39',\n",
       " 'aa40',\n",
       " 'aa41',\n",
       " 'aa42',\n",
       " 'aa43',\n",
       " 'aa44',\n",
       " 'aa45',\n",
       " 'aa46',\n",
       " 'aa47',\n",
       " 'aa48',\n",
       " 'aa49']"
      ]
     },
     "execution_count": 16,
     "metadata": {},
     "output_type": "execute_result"
    }
   ],
   "source": [
    "# Παράδειγμα 2o\n",
    "lowercase = 'abcdefghijklmnopqrstuvwxyz'\n",
    "digits = '0123456789'\n",
    "\n",
    "correct_answer = [a+b+c+d for a in lowercase for b in lowercase for c in digits for d in digits]\n",
    "\n",
    "correct_answer[:50] # Display first 50 ids"
   ]
  },
  {
   "cell_type": "markdown",
   "metadata": {
    "collapsed": true
   },
   "source": [
    "## Numpy πακέτο"
   ]
  },
  {
   "cell_type": "code",
   "execution_count": 3,
   "metadata": {
    "collapsed": true
   },
   "outputs": [],
   "source": [
    "import numpy as np # Numpy πακέτο"
   ]
  },
  {
   "cell_type": "code",
   "execution_count": 34,
   "metadata": {
    "collapsed": true
   },
   "outputs": [
    {
     "name": "stdout",
     "output_type": "stream",
     "text": [
      "[1 2 3]\n",
      "[4 5 6]\n",
      "[[ 7  8  9]\n",
      " [10 11 12]]\n"
     ]
    }
   ],
   "source": [
    "# Creating Arrays\n",
    "myList = [1,2,3]\n",
    "x = np.array(myList)\n",
    "print(x)\n",
    "y = np.array([4,5,6])\n",
    "print(y)\n",
    "n = np.array([(7,8,9),(10,11,12)]) # Δημιουργία πίνακα δύο διαστάσεων\n",
    "print(n)"
   ]
  },
  {
   "cell_type": "code",
   "execution_count": 31,
   "metadata": {
    "collapsed": true
   },
   "outputs": [
    {
     "data": {
      "text/plain": [
       "(2, 3)"
      ]
     },
     "execution_count": 31,
     "metadata": {},
     "output_type": "execute_result"
    }
   ],
   "source": [
    "n.shape # Επιστρέφει τις διαστάσεις του πίνακα γραμμές/στήλες"
   ]
  },
  {
   "cell_type": "code",
   "execution_count": 5,
   "metadata": {
    "collapsed": true
   },
   "outputs": [
    {
     "name": "stdout",
     "output_type": "stream",
     "text": [
      "[ 0  2  4  6  8 10 12 14 16 18 20 22 24 26 28]\n",
      "[ 0.   0.5  1.   1.5  2.   2.5  3.   3.5  4. ]\n"
     ]
    }
   ],
   "source": [
    "ar = np.arange(0,30,2) # Δημιουργία πίνακα από τον αριθμό 0 έως το 30 με βήμα 2\n",
    "print(ar)\n",
    "lin = np.linspace(0,4,9) # Δημιουργία πίνακα 9 θέσεων από τον αριθμό 0 έως το 4 και ισόποσες αποστάσεις\n",
    "print(lin)"
   ]
  },
  {
   "cell_type": "markdown",
   "metadata": {},
   "source": [
    "### Πράξεις με arrays"
   ]
  },
  {
   "cell_type": "code",
   "execution_count": 6,
   "metadata": {
    "collapsed": true
   },
   "outputs": [
    {
     "name": "stdout",
     "output_type": "stream",
     "text": [
      "[[ 1.  1.]\n",
      " [ 1.  1.]\n",
      " [ 1.  1.]]\n",
      "[[ 0.  0.]\n",
      " [ 0.  0.]\n",
      " [ 0.  0.]]\n",
      "[[ 1.  0.  0.  0.]\n",
      " [ 0.  1.  0.  0.]\n",
      " [ 0.  0.  1.  0.]\n",
      " [ 0.  0.  0.  1.]]\n",
      "[[ 0  0  0  0  0  0  0  0  0  0  0  0  0  0  0]\n",
      " [ 0  2  0  0  0  0  0  0  0  0  0  0  0  0  0]\n",
      " [ 0  0  4  0  0  0  0  0  0  0  0  0  0  0  0]\n",
      " [ 0  0  0  6  0  0  0  0  0  0  0  0  0  0  0]\n",
      " [ 0  0  0  0  8  0  0  0  0  0  0  0  0  0  0]\n",
      " [ 0  0  0  0  0 10  0  0  0  0  0  0  0  0  0]\n",
      " [ 0  0  0  0  0  0 12  0  0  0  0  0  0  0  0]\n",
      " [ 0  0  0  0  0  0  0 14  0  0  0  0  0  0  0]\n",
      " [ 0  0  0  0  0  0  0  0 16  0  0  0  0  0  0]\n",
      " [ 0  0  0  0  0  0  0  0  0 18  0  0  0  0  0]\n",
      " [ 0  0  0  0  0  0  0  0  0  0 20  0  0  0  0]\n",
      " [ 0  0  0  0  0  0  0  0  0  0  0 22  0  0  0]\n",
      " [ 0  0  0  0  0  0  0  0  0  0  0  0 24  0  0]\n",
      " [ 0  0  0  0  0  0  0  0  0  0  0  0  0 26  0]\n",
      " [ 0  0  0  0  0  0  0  0  0  0  0  0  0  0 28]]\n"
     ]
    }
   ],
   "source": [
    "x = np.ones([3,2]) # Δημιουργία πίνακα με τιμές ίσο 1\n",
    "print(x)\n",
    "x = np.zeros([3,2]) # Δημιουργία πίνακα με τιμές ίσο 0\n",
    "print(x)\n",
    "x = np.eye(4) # Δημιουργία πίνακα 4x4 με διαγώνιο 1 και τις υπόλοιπες 0\n",
    "print(x)\n",
    "x = np.diag(ar) # Δημιουργία πίνακα με διαγώνιο τις τιμές του δυανίσματος και τις υπόλοιπες 0\n",
    "print(x)"
   ]
  },
  {
   "cell_type": "code",
   "execution_count": 8,
   "metadata": {
    "collapsed": true
   },
   "outputs": [
    {
     "name": "stdout",
     "output_type": "stream",
     "text": [
      "[1 2 3 1 2 3 1 2 3]\n",
      "[1 1 1 2 2 2 3 3 3]\n",
      "[  0.    1.5   3.    4.5   6.    7.5   9.   10.5  12. ]\n"
     ]
    }
   ],
   "source": [
    "x = np.array([1,2,3]*3) # Δημιουργία πίνακα με επανάληψη της λίστας 3 φορές\n",
    "print(x)\n",
    "x = np.repeat([1,2,3],3) # Δημιουργία πίνακα με επανάληψη των στοιχείων της λίστας 3 φορές\n",
    "print(x)\n",
    "x = np.array(lin*3) # Πολλαπλασίάζει τις τιμές του array με τιν τιμή 3\n",
    "print(x)"
   ]
  },
  {
   "cell_type": "code",
   "execution_count": 21,
   "metadata": {
    "collapsed": true
   },
   "outputs": [
    {
     "name": "stdout",
     "output_type": "stream",
     "text": [
      "[[1 1 1]\n",
      " [1 1 1]]\n",
      "\n",
      "[[1 1 1]\n",
      " [1 1 1]\n",
      " [2 2 2]\n",
      " [2 2 2]]\n",
      "\n",
      "[[1 1 1 2 2 2]\n",
      " [1 1 1 2 2 2]]\n"
     ]
    }
   ],
   "source": [
    "p = np.ones([2,3],int) # Δημιουργία πίνακα 2x3 με ακέραιες τιμές ίσον 1\n",
    "print(p)\n",
    "print('')\n",
    "x=np.vstack([p,2*p]) # Δημιουργία πίνακα πρόσθετου σε γραμμές (vertical) στον προηγούμενο με τιμές του υπολογισμού\n",
    "print(x)\n",
    "print('')\n",
    "x=np.hstack([p,2*p]) # Δημιουργία πίνακα πρόσθετου σε στήλες (horizontal) στον προηγούμενο με τιμές του υπολογισμού\n",
    "print(x)"
   ]
  },
  {
   "cell_type": "markdown",
   "metadata": {},
   "source": [
    "## Πράξεις με Arrays"
   ]
  },
  {
   "cell_type": "code",
   "execution_count": 24,
   "metadata": {
    "collapsed": true
   },
   "outputs": [
    {
     "name": "stdout",
     "output_type": "stream",
     "text": [
      "[1 2 3]\n",
      "[4 5 6]\n",
      "[5 7 9]\n",
      "[ 4 10 18]\n",
      "[1 4 9]\n",
      "32\n"
     ]
    }
   ],
   "source": [
    "# Πράξεις μεταξύ Arrays\n",
    "print(x)\n",
    "print(y)\n",
    "print(x+y) # Πρόσθεση στοιχείων αντίστοιχης θέσης\n",
    "print(x*y) # Πολλαπλασιασμός στοιχείων αντίστοιχης θέσης\n",
    "print(x**2) # Ύψωση στο τετράγωνο των στοιχείων\n",
    "print(x.dot(y)) # Πρόσθεση όλων στοιχείων των arrays"
   ]
  },
  {
   "cell_type": "code",
   "execution_count": 26,
   "metadata": {
    "collapsed": true
   },
   "outputs": [
    {
     "name": "stdout",
     "output_type": "stream",
     "text": [
      "(2, 3)\n",
      "[[ 4 16]\n",
      " [ 5 25]\n",
      " [ 6 36]]\n",
      "int32\n",
      "float32\n"
     ]
    }
   ],
   "source": [
    "z = np.array([y,y**2])\n",
    "print(z.shape) # Επιστρέφει τις δοιαστάσεις του πίνακα\n",
    "print(z.T) # Κάνει transpose τον πίνακα (τις γραμμές στήλες και το ανάποδο)\n",
    "print(z.dtype) # Επιστρέφει τον τύπο του array\n",
    "z = z.astype('f') # αλλαγή στον τύπο του πίνακα\n",
    "print(z.dtype) # Επιστρέφει τον τύπο του array"
   ]
  },
  {
   "cell_type": "code",
   "execution_count": 27,
   "metadata": {
    "collapsed": true
   },
   "outputs": [
    {
     "name": "stdout",
     "output_type": "stream",
     "text": [
      "15\n",
      "1\n",
      "5\n",
      "3.0\n",
      "1.41421356237\n",
      "4\n",
      "0\n"
     ]
    }
   ],
   "source": [
    "z = np.array([1,2,3,4,5])\n",
    "print(z.sum()) # Sum value of array\n",
    "print(z.min()) # Min value of array\n",
    "print(z.max()) # Max value of array\n",
    "print(z.mean()) # Mean/Average value of array\n",
    "print(z.std()) # Standard deviation value of array\n",
    "print(z.argmax()) # Maximum of Index of array\n",
    "print(z.argmin()) # Minimum of Index of array"
   ]
  },
  {
   "cell_type": "code",
   "execution_count": 31,
   "metadata": {
    "collapsed": true
   },
   "outputs": [
    {
     "name": "stdout",
     "output_type": "stream",
     "text": [
      "[  0   1   4   9  16  25  36  49  64  81 100 121 144]\n",
      "\n",
      "[[ 0  1  2  3  4  5]\n",
      " [ 6  7  8  9 10 11]\n",
      " [12 13 14 15 16 17]\n",
      " [18 19 20 21 22 23]\n",
      " [24 25 26 27 28 29]\n",
      " [30 31 32 33 34 35]]\n",
      "\n",
      "[[ 0  0  0  3  4  5]\n",
      " [ 0  0  0  9 10 11]\n",
      " [ 0  0  0 15 16 17]\n",
      " [18 19 20 21 22 23]\n",
      " [24 25 26 27 28 29]\n",
      " [30 30 30 30 30 30]]\n",
      "\n",
      "[[10 10 10 10 10 10]\n",
      " [10 10 10 10 10 10]\n",
      " [10 10 10 10 10 10]\n",
      " [10 10 10 10 10 10]\n",
      " [10 10 10 10 10 10]\n",
      " [10 10 10 10 10 10]]\n",
      "\n",
      "[[ 0  0  0  3  4  5]\n",
      " [ 0  0  0  9 10 11]\n",
      " [ 0  0  0 15 16 17]\n",
      " [18 19 20 21 22 23]\n",
      " [24 25 26 27 28 29]\n",
      " [30 30 30 30 30 30]]\n"
     ]
    }
   ],
   "source": [
    "s = np.arange(13)**2\n",
    "print(s)\n",
    "s[0], s[3], s[7:10]\n",
    "s[4]\n",
    "s[-4]\n",
    "s[-4:]\n",
    "print()\n",
    "\n",
    "r = np.arange(36)\n",
    "r.resize(6,6)\n",
    "r[2,2]\n",
    "r[3,3:6]\n",
    "r[:2,:-1]\n",
    "r[-1,::2] # Επιλογή στοιχείου κάθε δυο θέσεις (μια παρά μια)\n",
    "r[r>30] # Τα στοιχεία που έχουν τιμή > 30\n",
    "print(r)\n",
    "print()\n",
    "\n",
    "r[r>30] = 30\n",
    "r2=r[:3,:3]\n",
    "r2[:] = 0\n",
    "print(r)\n",
    "print()\n",
    "\n",
    "copyArr = r.copy()\n",
    "copyArr[:] = 10\n",
    "print(copyArr)\n",
    "print()\n",
    "print(r)\n"
   ]
  },
  {
   "cell_type": "code",
   "execution_count": 33,
   "metadata": {
    "collapsed": true
   },
   "outputs": [
    {
     "name": "stdout",
     "output_type": "stream",
     "text": [
      "[[2 8 0]\n",
      " [4 1 0]\n",
      " [3 1 6]\n",
      " [4 5 3]]\n",
      "\n",
      "[2 8 0]\n",
      "[4 1 0]\n",
      "[3 1 6]\n",
      "[4 5 3]\n",
      "\n",
      "[2 8 0]\n",
      "[4 1 0]\n",
      "[3 1 6]\n",
      "[4 5 3]\n",
      "\n",
      "row 0 is [2 8 0]\n",
      "row 1 is [4 1 0]\n",
      "row 2 is [3 1 6]\n",
      "row 3 is [4 5 3]\n",
      "\n",
      "\n",
      "[2 8 0] + [ 4 64  0] = [ 6 72  0]\n",
      "[4 1 0] + [16  1  0] = [20  2  0]\n",
      "[3 1 6] + [ 9  1 36] = [12  2 42]\n",
      "[4 5 3] + [16 25  9] = [20 30 12]\n"
     ]
    }
   ],
   "source": [
    "test = np.random.randint(0,10,(4,3)) # Δημιουργία πίνακα διαστάσεων 4x3 με τυχαίους ακέραιους αριθμούς μεταξύ 0 και 10\n",
    "print(test)\n",
    "print()\n",
    "for row in test:\n",
    "    print(row)\n",
    "print()\n",
    "for i in range(len(test)):\n",
    "    print(test[i])\n",
    "print()    \n",
    "for i,row in enumerate(test):\n",
    "    print('row', i, 'is', row)     \n",
    "print()    \n",
    "test2 = test**2    \n",
    "test2    \n",
    "print()\n",
    "for i,j in zip(test,test2):\n",
    "    print(i,'+',j,'=',i+j)"
   ]
  },
  {
   "cell_type": "code",
   "execution_count": null,
   "metadata": {
    "collapsed": true
   },
   "outputs": [],
   "source": []
  }
 ],
 "metadata": {
  "kernelspec": {
   "display_name": "Python 3",
   "language": "python",
   "name": "python3"
  },
  "language_info": {
   "codemirror_mode": {
    "name": "ipython",
    "version": 3
   },
   "file_extension": ".py",
   "mimetype": "text/x-python",
   "name": "python",
   "nbconvert_exporter": "python",
   "pygments_lexer": "ipython3",
   "version": "3.6.2"
  }
 },
 "nbformat": 4,
 "nbformat_minor": 2
}
